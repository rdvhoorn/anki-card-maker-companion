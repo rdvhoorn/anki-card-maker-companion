{
 "cells": [
  {
   "cell_type": "code",
   "execution_count": 1,
   "metadata": {},
   "outputs": [
    {
     "data": {
      "text/plain": [
       "True"
      ]
     },
     "execution_count": 1,
     "metadata": {},
     "output_type": "execute_result"
    }
   ],
   "source": [
    "from pydantic_ai import Agent\n",
    "from dotenv import load_dotenv\n",
    "\n",
    "load_dotenv()"
   ]
  },
  {
   "cell_type": "code",
   "execution_count": 8,
   "metadata": {},
   "outputs": [],
   "source": [
    "import nest_asyncio\n",
    "\n",
    "nest_asyncio.apply()"
   ]
  },
  {
   "cell_type": "code",
   "execution_count": 3,
   "metadata": {},
   "outputs": [],
   "source": [
    "ddgs = DDGS()"
   ]
  },
  {
   "cell_type": "code",
   "execution_count": 4,
   "metadata": {},
   "outputs": [],
   "source": [
    "results = ddgs.images('Arquitecto', max_results=5)"
   ]
  },
  {
   "cell_type": "code",
   "execution_count": 22,
   "metadata": {},
   "outputs": [],
   "source": [
    "query_finetuning_agent = Agent(\n",
    "    'openai:gpt-4o-mini',\n",
    "    system_prompt=\"\"\"\n",
    "You are an image search assistant.\n",
    "Given an input sentence, generate a concise image search query in English (a word or short sentence) that best captures the core visual concept or essence of the input.\n",
    "- Your output must be a natural-sounding search phrase.\n",
    "- It should be no more than 100 characters.\n",
    "- Focus on clarity and relevance to ensure useful search results.\n",
    "- Return only the query — no explanations.\n",
    "\"\"\")\n",
    "\n",
    "\n",
    "query = query_finetuning_agent.run_sync(\"vosotros sois compañeros de trabajo\")"
   ]
  },
  {
   "cell_type": "code",
   "execution_count": 23,
   "metadata": {},
   "outputs": [
    {
     "data": {
      "text/plain": [
       "'coworkers teamwork workplace'"
      ]
     },
     "execution_count": 23,
     "metadata": {},
     "output_type": "execute_result"
    }
   ],
   "source": [
    "query.output"
   ]
  },
  {
   "cell_type": "code",
   "execution_count": 27,
   "metadata": {},
   "outputs": [],
   "source": [
    "def get_images(query):\n",
    "    search_query = query_finetuning_agent.run_sync(query).output\n",
    "    image_results = ddgs.images(search_query, max_results=5)\n",
    "    return image_results, search_query\n",
    "\n",
    "results, query = get_images(\"ustedes son arquitectos\")\n"
   ]
  },
  {
   "cell_type": "code",
   "execution_count": 28,
   "metadata": {},
   "outputs": [
    {
     "data": {
      "text/plain": [
       "'architects at work'"
      ]
     },
     "execution_count": 28,
     "metadata": {},
     "output_type": "execute_result"
    }
   ],
   "source": [
    "query"
   ]
  },
  {
   "cell_type": "code",
   "execution_count": 29,
   "metadata": {},
   "outputs": [
    {
     "data": {
      "text/plain": [
       "['https://cdn8.dissolve.com/p/D2012_159_006/D2012_159_006_1200.jpg',\n",
       " 'https://s3da-design.com/wp-content/uploads/2022/02/Architects.jpg',\n",
       " 'https://thumbs.dreamstime.com/z/young-architect-working-office-young-caucasian-architect-studying-floor-plan-serious-civil-engineer-working-172749316.jpg',\n",
       " 'https://thumbs.dreamstime.com/b/architects-work-21667396.jpg',\n",
       " 'https://st3.depositphotos.com/11233746/15698/i/1600/depositphotos_156987342-stock-photo-professional-architects-at-work.jpg']"
      ]
     },
     "execution_count": 29,
     "metadata": {},
     "output_type": "execute_result"
    }
   ],
   "source": [
    "[result['image'] for result in results]\n"
   ]
  },
  {
   "cell_type": "code",
   "execution_count": 2,
   "metadata": {},
   "outputs": [
    {
     "name": "stdout",
     "output_type": "stream",
     "text": [
      "1. Title: Super Cute Cats Compilation - YouTube\n",
      "   Link: https://i.ytimg.com/vi/SQJrYw1QvSQ/hq720.jpg?sqp=-oaymwEhCK4FEIIDSFryq4qpAxMIARUAAAAAGAElAADIQj0AgKJD&rs=AOn4CLBY9A7Gomuj6iHkoDkSidTzx0bZAw\n",
      "   Context: https://www.youtube.com/watch?v=SQJrYw1QvSQ&pp=0gcJCdgAo7VqN5tD\n",
      "\n",
      "2. Title: Cute Cats screensaver - App on Amazon Appstore\n",
      "   Link: https://m.media-amazon.com/images/I/81J4+bB45JL.png\n",
      "   Context: https://www.amazon.com/Bright-Data-Cute-Cats-screensaver/dp/B0BTBWDMK6\n",
      "\n",
      "3. Title: The CUTEST and FUNNIEST KITTENS and CATS You'll want more! - YouTube\n",
      "   Link: https://i.ytimg.com/vi/6mOcNbLXhqk/maxresdefault.jpg\n",
      "   Context: https://www.youtube.com/watch?v=6mOcNbLXhqk&pp=0gcJCdgAo7VqN5tD\n",
      "\n",
      "4. Title: 750+ Cute Cat Pictures | Download Free Images on Unsplash\n",
      "   Link: https://images.unsplash.com/photo-1529778873920-4da4926a72c2?fm=jpg&q=60&w=3000&ixlib=rb-4.1.0&ixid=M3wxMjA3fDB8MHxzZWFyY2h8Mnx8Y3V0ZSUyMGNhdHxlbnwwfHwwfHx8MA%3D%3D\n",
      "   Context: https://unsplash.com/s/photos/cute-cat\n",
      "\n",
      "5. Title: The CUTEST and FUNNIEST KITTENS and CATS You'll want more! - YouTube\n",
      "   Link: https://i.ytimg.com/vi/6mOcNbLXhqk/hq720.jpg?sqp=-oaymwEhCK4FEIIDSFryq4qpAxMIARUAAAAAGAElAADIQj0AgKJD&rs=AOn4CLASGRqrq-UeirbykA5j6HRCt9GEvg\n",
      "   Context: https://www.youtube.com/watch?v=6mOcNbLXhqk&pp=0gcJCdgAo7VqN5tD\n",
      "\n"
     ]
    }
   ],
   "source": [
    "import requests\n",
    "import os\n",
    "\n",
    "QUERY = \"cute cats\"\n",
    "NUM_RESULTS = 5  # max is 10 per call\n",
    "\n",
    "def do_google_image_search(query, num=10):\n",
    "    url = \"https://www.googleapis.com/customsearch/v1\"\n",
    "    params = {\n",
    "        \"q\": query,\n",
    "        \"key\": os.getenv(\"GOOGLE_API_KEY\"),\n",
    "        \"cx\": os.getenv(\"GOOGLE_CSE_ID\"),\n",
    "        \"searchType\": \"image\",  # Omit this line if you want web search\n",
    "        \"num\": num\n",
    "    }\n",
    "    response = requests.get(url, params=params)\n",
    "    response.raise_for_status()\n",
    "    results = response.json()\n",
    "\n",
    "    return [item['link'] for item in results.get(\"items\", [])]\n",
    "\n",
    "results = do_google_image_search(QUERY, NUM_RESULTS)\n"
   ]
  },
  {
   "cell_type": "code",
   "execution_count": null,
   "metadata": {},
   "outputs": [],
   "source": []
  }
 ],
 "metadata": {
  "kernelspec": {
   "display_name": ".venv",
   "language": "python",
   "name": "python3"
  },
  "language_info": {
   "codemirror_mode": {
    "name": "ipython",
    "version": 3
   },
   "file_extension": ".py",
   "mimetype": "text/x-python",
   "name": "python",
   "nbconvert_exporter": "python",
   "pygments_lexer": "ipython3",
   "version": "3.12.2"
  }
 },
 "nbformat": 4,
 "nbformat_minor": 2
}
